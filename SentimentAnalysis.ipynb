{
 "cells": [
  {
   "cell_type": "code",
   "execution_count": 1,
   "metadata": {},
   "outputs": [
    {
     "name": "stderr",
     "output_type": "stream",
     "text": [
      "[nltk_data] Downloading package stopwords to\n",
      "[nltk_data]     C:\\Users\\admin\\AppData\\Roaming\\nltk_data...\n",
      "[nltk_data]   Package stopwords is already up-to-date!\n"
     ]
    },
    {
     "data": {
      "text/plain": [
       "True"
      ]
     },
     "execution_count": 1,
     "metadata": {},
     "output_type": "execute_result"
    }
   ],
   "source": [
    "import tweepy\n",
    "import re\n",
    "import pickle\n",
    "import numpy as np\n",
    "from tweepy import OAuthHandler\n",
    "import nltk\n",
    "nltk.download('stopwords')"
   ]
  },
  {
   "cell_type": "code",
   "execution_count": 2,
   "metadata": {},
   "outputs": [],
   "source": [
    "# Initializing the keys\n",
    "consumer_key = 'CIFjmXPDQccyG2uLkFrO4LJcx'\n",
    "consumer_secret = '6U88AaFE2wd7tjvDKPvXEv7qFthxi82yMXmt2V2CPYvLQyY5JS' \n",
    "access_token = '1181430333033500672-Qkfih9BiNOBIAqhnaTmapqhbRaKTTL'\n",
    "access_secret ='24FxebVyhzy1NBtSaET6FTQNDokI87zCQO1oxwO4Nv1OM'"
   ]
  },
  {
   "cell_type": "code",
   "execution_count": 3,
   "metadata": {},
   "outputs": [],
   "source": [
    "# Initializing the tokens\n",
    "auth = OAuthHandler(consumer_key, consumer_secret)\n",
    "auth.set_access_token(access_token, access_secret)\n",
    "args = ['#MeToo']\n",
    "api = tweepy.API(auth,timeout=10)"
   ]
  },
  {
   "cell_type": "code",
   "execution_count": 4,
   "metadata": {},
   "outputs": [],
   "source": [
    "# Fetching the tweets\n",
    "list_tweets = []\n",
    "\n",
    "query = args[0]\n",
    "if len(args) == 1:\n",
    "    for status in tweepy.Cursor(api.search,q=query+\" -filter:retweets\",lang='en',result_type='recent').items(100):\n",
    "        list_tweets.append(status.text)"
   ]
  },
  {
   "cell_type": "code",
   "execution_count": 5,
   "metadata": {},
   "outputs": [
    {
     "data": {
      "text/plain": [
       "[\"@katerbland https://t.co/ps0ktAwrQu was just reading this article and noticed you've spelt the founder of the… https://t.co/y0cyVaKBLa\",\n",
       " 'How #MeToo revealed the central rift within feminism today https://t.co/kpDam3wibS',\n",
       " \"A year later, what's next for India's #MeToo movement? @nandita_singh1, @khanthefatima, @MandhaniApoorva &amp; I spoke… https://t.co/6ffCF0Kawu\",\n",
       " 'Been trying to do this all day, imagine a train looking out and six bronze Aussie lifeguards are standing on the bl… https://t.co/OhkUJn3YK9',\n",
       " 'I just had the pleasure of feeling someone’s nipples on my back as I’m sitting at the bar.... lol #metoo? #wtf',\n",
       " 'INFOGRAPHIC on #Nifty companies with maximum sexual harassment complaints filed under PoSH Act in FY19 - compiled b… https://t.co/36LpHd5sAj',\n",
       " '@DFBHarvard @u_funky More whistle blowers just like the parade of #metoo who lined up to testify against Kavanaugh… https://t.co/GCiqFteUmr',\n",
       " 'I really want another season of @TheRoyalsTV. I understand there were some #MeToo issues behind the scenes, that’s… https://t.co/4ZglIYxBkZ',\n",
       " 'Nurse struck off for failing to report child sexual abuse concerns - BBC News https://t.co/86NZQ4LhJd #metoo https://t.co/HIJVAIcSkV',\n",
       " 'The Perfect Alibi (Robin Lockwood #2) [EPUB] #FULL PAGE https://t.co/PATIZTddVR #metoo https://t.co/tpOydGvaZK',\n",
       " 'Comments under this🤦\\u200d♀️\\nThe modern young boy n girls think that society creates issue on mix friendships.\\n\\nThe forg… https://t.co/a6bws2KS4k',\n",
       " 'A dissection of intersectional gender inequality and annihilation of slut shaming. #feminism #timesup #metoo… https://t.co/eNIkB2rXVu',\n",
       " 'One year after the ‘me too’ movement in India, do we need change AND nuance? Yes!\\n@samirasood reports #metoo \\n\\nhttps://t.co/0s4uZnNFJI',\n",
       " 'It’s never too late to find your voice\\n #endthesilence  #metoo✊💛 https://t.co/cpCSWmPqCW',\n",
       " 'Is it just my impression to think the tide has turned on #MeToo ?',\n",
       " 'Wow...this is so freaking sad.  Where’s the #MeToo peeps? 😪 https://t.co/WFEGKsZLvR',\n",
       " \"I beat it down because I HAD TO! I ploughed through BECAUSE I HAD TO!!! Don't fucking tell me I've done well, or pa… https://t.co/lcMrunTKXg\",\n",
       " '. . . Were made. \\n\\nWe have also a lead that there were multiple female students AND that some of them may have bene… https://t.co/2hNvEaUeFq',\n",
       " '@RonanFarrow @rtraister What bugs me is that everyone acts like #epstein never happened. Bill Richardson, a former… https://t.co/VaNA2ozjpr',\n",
       " 'October 2018 was a watershed moment in India’s fight for gender justice, with survivors of sexual abuse calling out… https://t.co/kxpTxUTpIj',\n",
       " 'I didn’t receive official diagnosis of PTSD as a youth, rather back then I was diagnosed with an eating disorder-bu… https://t.co/h4KPomkXJk',\n",
       " 'What is gender-based violence, and how can it be prevented?\\nhttps://t.co/LBwWk3AunQ\\n\\nComment/share your thoughts:… https://t.co/J8728cr2VN',\n",
       " '@joshuawongcf They target girls. They are #sadist #Misogynist. #MeToo',\n",
       " '#MeToo is a crisis for contemporary womanhood - The Post Millennial https://t.co/M7ciOQqTbn ➜… https://t.co/Ei0pjqyHVN',\n",
       " \"#Metoo Hits Nepal's Government - Human Rights Watch : https://t.co/Gq63J5dZzv\",\n",
       " 'Persons stalking, poisoning #GE $GE whistleblower &amp; #MeToo survivor Seema Sapra @CPDelhi @DelhiPolice @FBI… https://t.co/fynXIDMS11',\n",
       " '12.25 Persons stalking, poisoning #GE $GE whistleblower &amp; #MeToo survivor Seema Sapra @CPDelhi @DelhiPolice @FBI… https://t.co/DRX2n4EyQl',\n",
       " '[Recap] ‘I am not the only one’: Hong Kong student removes mask and accuses police of sexual assault… https://t.co/ZAd8QDXmh9',\n",
       " '#MeToo backlash continues-now even women are less likely to hire women - The Post Mil… https://t.co/lBkb1g4rLg ➜… https://t.co/dGDubDWYnb',\n",
       " 'Fans will say this is fake. It\\'s not.\\n 1993 Declaration of Jordan Chandler. Fans will tell you it\\'s \"fake\"… https://t.co/wXxzpMUodJ',\n",
       " '@BBCWorld - Why I went public about being raped, 67 years later @BBCAfrica\\n\"Scandalous acceptance of sexual molesta… https://t.co/IwjG72KsUJ',\n",
       " 'In #MeToo overreach, celebrities are fighting back-and winning-in court - The Post Mi… https://t.co/rUMuBKhP05 ➜… https://t.co/anPYHKd9QR',\n",
       " 'Go ahead!\\nhttps://t.co/bG82LmJZDI\\n#AntiChinazi #LiberateHongKong #GlobalMagnitskyAct #passHKHumanRightsDemocracyAct… https://t.co/5j6xGM4GPk',\n",
       " '#Metooindia #SaturdayMotivation #SaturdayMorning #Brexit #SaturdayThoughts #Mentoo \\n\\nThese Gentlemen in #India  wer… https://t.co/gfvDDx9mNu',\n",
       " '@RonanFarrow @rtraister What worries me far more than the individual acts in #metoo, is if it has become a culture… https://t.co/m30kA1YZZ6',\n",
       " 'Imagine if all of us were instantly &amp; permanently labeled with our worst acts. People keep forgetting how much natu… https://t.co/85hskjLWxC',\n",
       " '#MeToo\\n\\nAnd they told me, \"This is actually a defense attorney\\'s office... soo... yeeahh... \" I kid you not. I am c… https://t.co/Sk9Pz4a7Ed',\n",
       " 'Oh, well, if no one had the courage to say anything before it MUST be okay...\\n\\nUgly rich dude still not getting… https://t.co/jAYc4Nv63R',\n",
       " \"@ThatRedNJB @HackChurnalist @DavidNeiwert It had me too.... #MeToo  Hope that # isn't taken already.\",\n",
       " '@alefnull @erinbiba I felt the same. Then I saw him speak in person at a conference, and... yeah... he said things… https://t.co/dM5qPnd2KD',\n",
       " 'A bunch of fucking lawful gangsters who assaulted young female without any punishment \\nYou still believe the rule b… https://t.co/dpnAi1C0SL',\n",
       " '#MeToo\\n\\nDear #California, \\n\\n20 years ago (when I was 5), I was raped incestuously. I was notified that I can sue my… https://t.co/dJDfWA5nDH',\n",
       " '@steve_silva LMFAO can you cut the shit ! Im sick of this! #abuse #metoo',\n",
       " \"one day we can't protect our children.😭😢\\n#HKPoliceTerrorism #hkpolicebrutality #MeToo \\n#antichinazi… https://t.co/BfUmcGLa1c\",\n",
       " 'US hopes to keep Venezuela off UN Human Rights Council - Washington Post https://t.co/PpJv1keTA5 #metoo https://t.co/JsZRcjUmLB',\n",
       " 'How the #MeToo cases that shook India have played out\\n\\nRead more: https://t.co/Z3ODlBBuwH https://t.co/0RNbo4xN6Q',\n",
       " 'New post (NASCAR Driver Angers #MeToo Movement With Unwanted Victory Lane Kiss - The Drive) has been published on N… https://t.co/XcCSEVfE8X',\n",
       " '#metoo idc how old this shit is fuck this world bruh too many girls get harassed and just, me too.',\n",
       " '#Boudicca leading another #British rebellion on #WestminsterBridge this week\\n\\n#ExtinctionRebellion #EverybodyNow… https://t.co/ZFTBp6hQ3J',\n",
       " \"CW: sexual violence, conservative fucktards\\n\\nSo for anyone who didn't already realise that @neiltyson was gross (wo… https://t.co/SEycQkj84p\",\n",
       " 'More Google searches for sexual harassment facts since #MeToo https://t.co/DUgIiVIR6S',\n",
       " 'Finally #MeToo https://t.co/SpOpiBQeRy',\n",
       " 'Big mouth bob dinero joins the #METOO predator ranks.\\n\\nRobert De Niro discriminated against and harassed female emp… https://t.co/SMDCT5S2Qj',\n",
       " 'How #MeToo Has Forced Venture Capital to Become More Inclusive https://t.co/7kEzRsCC30',\n",
       " 'https://t.co/bg9jK1NYcB #MeToo in brussels_98% of women = #sexual #harassment in public space in #Brussels',\n",
       " '@_Costello__ Your perspective is wrong cos I’ve seen huge convos happen in this app. From the #metoo movement to… https://t.co/WLzqEiJssb',\n",
       " \"One year after India’s big #MeToo wave, a reality check\\n\\nThePrint's Samira Sood @samirasood, Nandita Singh… https://t.co/KSo82SYMfc\",\n",
       " 'Well said...#metoo times 100 https://t.co/CkZxLBRApY',\n",
       " 'One year after India’s big #MeToo wave, a reality check https://t.co/KdTGXxguI0',\n",
       " 'Breaking: #FakeNews \\n\\nWhen the #pronouns of @ChrisCuomo  joined the #MeToo movement - #TownHall echoed \"Apologise o… https://t.co/FqfU7eh7CD',\n",
       " \"I &amp; many others publically condemned it when our team's owner was wrong in tweeting an insensitive remark against s… https://t.co/DK1bNv1lBU\",\n",
       " 'Melbourne Australia 🇦🇺 Rape: Don’t take it lying down FIGHT BACK!! All children deserve to grow up sexually safe #metoo 7',\n",
       " '@kleintime99 @JefferyEmperley @magica1max #MeToo \\n7yard completion and first down but damn it was fun presnap',\n",
       " 'Do you know what the consequences of domestic violence include? Learn more here: https://t.co/LBwWk3AunQ\\n#feminism… https://t.co/o0uwXC8fN5',\n",
       " 'Oh my gosh! We have been far too silenced, traumatized and embarrassed to protest in the streets. I started this mo… https://t.co/zMiBn6ifQZ',\n",
       " 'President Trump defends Kavanaugh as another woman claims sexual abuse - WQOW TV News 18 https://t.co/iLt2pv7E7h… https://t.co/4VkH6MBNiZ',\n",
       " '@Southwitch420 @BatzelKathy @JoeBiden Unbelievable you’re not allowed to touch women but kids ok @JoeBiden What a d… https://t.co/RuizSqWpX8',\n",
       " 'One year after India’s big #MeToo wave, a reality check....\\n\\nFrom ThePrint newsroom.....\\n\\n Samira Sood @samirasood,… https://t.co/zjOgYc3h8K',\n",
       " 'This is harrowing and unbelievable\\nDoes #MeToo cover these kids? https://t.co/IiJxnyOFzk',\n",
       " \"One year after India’s big #MeToo wave, a reality check\\n\\nThePrint's Samira Sood @samirasood, Nandita Singh… https://t.co/otzDF6Tpao\",\n",
       " \"#MeToo Merch - Christine: Or Woman's Trials and Triumphs (Legacies of Nineteenth-Century American Women Writers) -… https://t.co/Dkr7afirDc\",\n",
       " '@CarrieHillborn @Indian_Bronson @AbigailLupton @WyattMannThe7th you would be wrong, douchebag. \\n#metoo \\n💔 🖕🏾',\n",
       " \"@CBSEveningNews @CBSNews\\n\\nThat's 26, People! \\nAny other celebrity sin is drama-queen important but not Trump assaul… https://t.co/dY3Zp28VEM\",\n",
       " \"@Shialabeefsteak @chimponsey You never will..  it's old news everyone on Leftbook knew 5 years ago. Some old comrad… https://t.co/khQOBo9XL5\",\n",
       " 'it was horrifying having to defend my sisters from the system, but then it #MeToo',\n",
       " 'Stand by your man, give him two arms to cling to...\\n\\n#Hillary Clinton the #Metoo Loretta Lynn of our times. No offe… https://t.co/lMysbnz9tp',\n",
       " \"@ABCWorldNews @GMA @ThisWeekABC \\n\\nThat's 26, People! \\nAny other celebrity sin is drama-queen important but not Trum… https://t.co/QU8HsZvBGx\",\n",
       " 'I’m confused. It’s okay that chicks with dicks compete in women’s sports but paying a college athlete is absurd? Pi… https://t.co/gegvQDizFU',\n",
       " '@andwal79 @HoneyBadgerBite @xmjones100 This is a real question!\\nIf you know nothing about it why not ask about it i… https://t.co/JrvpKWGiOd',\n",
       " '@Shialabeefsteak #metoo came and went and some of us leftists were waiting for shit to hit the fan over Henwood but afaik it never did??',\n",
       " 'Why CREW Chapters Are Courting Men - https://t.co/ayBuIQHsxk #metoo #timesup #news https://t.co/2z2zuZBMHp',\n",
       " 'One year since #MeToo : Has India Inc’s attitude changed?\\nhttps://t.co/g2dNvm93Cm\\n#MeToo #Metooindia #harassment #women #womenempowerment',\n",
       " '@_curly_ju @Alisonmau Isnt that what #metoo is for? And how in hell does anyone know which media heavyweights  are on holiday at any time?',\n",
       " \"@laxman0317 @CoryBooker Dude.  #metoo.  I guess it's true.  The sun has to shine on every dogs ass once in while.\",\n",
       " '11.10 persons used to follow, poison #GE $GE whistleblower &amp; #MeToo survivor Seema Sapra @CPDelhi @DelhiPolice @FBI… https://t.co/5aYOVl9lY9',\n",
       " 'One year after India’s big #MeToo wave, a reality check https://t.co/NsA2PB0AY5',\n",
       " 'A list of Indian celebrities who have been accused by women of sexually abusive behaviour during the #MeToo movemen… https://t.co/1NjZfxKWqT',\n",
       " '@FUTURENEWS2020 100% he gets impeached. Odds low but rising that he gets removed by the Senate. Thing no one is tal… https://t.co/mO4DEnk6kY',\n",
       " 'How the #MeToo Cases That Shook India Have Played Out \\u2066@archchaudhary\\u2069 \\u2066@DhwaniPandya\\u2069 \\u2066@SarithaRai\\u2069 \\u2066… https://t.co/H0tggXzlXy',\n",
       " '#MeToo!  Puzzles and codes are my faves!🐸 https://t.co/SD8IimaTDr',\n",
       " 'Harrassed Millions Of Ladies But Never Got a #MeToo Harrassment Case...🤔😉\\n@annie_anis \\n@salmi_gull https://t.co/rjTwKbu23n',\n",
       " 'Taking an Uber home alone because our friend said #MeToo was a problem! Love being a woman!',\n",
       " 'Celebrating the first anniversary of the historical MeToo movement.Lets not forget what the movement has taught us.… https://t.co/ZsayyH6xiP',\n",
       " '11.07 persons  used to follow #GE $GE whistleblower &amp; #MeToo survivor Seema Sapra @CPDelhi @DelhiPolice @FBI… https://t.co/CwbsngEuCQ',\n",
       " 'Men used to poison, attack Men used to pois #GE $GE whistleblower &amp; #MeToo survivor Seema Sapra inside Lodhi Garden… https://t.co/PFNHA10BkJ',\n",
       " 'Men used to poison, attack #GE $GE whistleblower &amp; #MeToo survivor Seema Sapra inside Lodhi Gardens  washroom… https://t.co/djhcHi5Dkl',\n",
       " '11.03 men following, poisoning  #GE $GE whistleblower &amp; #MeToo survivor Seema Sapra @CPDelhi @DelhiPolice @FBI… https://t.co/wlMX1oVlbv',\n",
       " '@Nidhi After @VinodDua7 #MeToo 🤐🤐😂',\n",
       " 'Men used to poison, attack #GE $GE whistleblower &amp; #MeToo survivor Seema Sapra inside Lodhi Gardens  washroom… https://t.co/HpbOywfPYF',\n",
       " 'Instead of #metoo its now #fuckyou']"
      ]
     },
     "execution_count": 5,
     "metadata": {},
     "output_type": "execute_result"
    }
   ],
   "source": [
    "list_tweets"
   ]
  },
  {
   "cell_type": "code",
   "execution_count": 6,
   "metadata": {},
   "outputs": [],
   "source": [
    "def remove_pattern(input_txt, pattern):\n",
    "    r = re.findall(pattern, input_txt)\n",
    "    for i in r:\n",
    "        input_txt = re.sub(i, ' ', input_txt)\n",
    "        \n",
    "    return input_txt    "
   ]
  },
  {
   "cell_type": "code",
   "execution_count": 7,
   "metadata": {},
   "outputs": [],
   "source": [
    "# remove twitter handles (@user)\n",
    "list_tweets = np.vectorize(remove_pattern)(list_tweets, \"@[\\w]*\")\n",
    "list_tweets = np.vectorize(remove_pattern)(list_tweets, \"\\s+https://t.co/[\\w\\d]*$\")\n",
    "list_tweets = np.vectorize(remove_pattern)(list_tweets, \"^https://t.co/[a-zA-Z0-9]*\\s\")\n",
    "list_tweets = np.vectorize(remove_pattern)(list_tweets, \"\\s+https://t.co/[a-zA-Z0-9]*\\s\")\n",
    "list_tweets = np.vectorize(remove_pattern)(list_tweets, \"\\d\")\n",
    "list_tweets = np.vectorize(remove_pattern)(list_tweets, \"[\\n]\")"
   ]
  },
  {
   "cell_type": "code",
   "execution_count": 8,
   "metadata": {},
   "outputs": [
    {
     "data": {
      "text/plain": [
       "array([\" was just reading this article and noticed you've spelt the founder of the… \",\n",
       "       'How #MeToo revealed the central rift within feminism today ',\n",
       "       \"A year later, what's next for India's #MeToo movement?  ,  ,   &amp; I spoke… \",\n",
       "       'Been trying to do this all day, imagine a train looking out and six bronze Aussie lifeguards are standing on the bl… ',\n",
       "       'I just had the pleasure of feeling someone’s nipples on my back as I’m sitting at the bar.... lol #metoo? #wtf',\n",
       "       'INFOGRAPHIC on #Nifty companies with maximum sexual harassment complaints filed under PoSH Act in FY   - compiled b… ',\n",
       "       '    More whistle blowers just like the parade of #metoo who lined up to testify against Kavanaugh… ',\n",
       "       'I really want another season of  . I understand there were some #MeToo issues behind the scenes, that’s… ',\n",
       "       'Nurse struck off for failing to report child sexual abuse concerns - BBC News #metoo ',\n",
       "       'The Perfect Alibi (Robin Lockwood # ) [EPUB] #FULL PAGE #metoo ',\n",
       "       'Comments under this🤦\\u200d♀️ The modern young boy n girls think that society creates issue on mix friendships.  The forg… ',\n",
       "       'A dissection of intersectional gender inequality and annihilation of slut shaming. #feminism #timesup #metoo… ',\n",
       "       'One year after the ‘me too’ movement in India, do we need change AND nuance? Yes!   reports #metoo ',\n",
       "       'It’s never too late to find your voice  #endthesilence  #metoo✊💛 ',\n",
       "       'Is it just my impression to think the tide has turned on #MeToo ?',\n",
       "       'Wow...this is so freaking sad.  Where’s the #MeToo peeps? 😪 ',\n",
       "       \"I beat it down because I HAD TO! I ploughed through BECAUSE I HAD TO!!! Don't fucking tell me I've done well, or pa… \",\n",
       "       '. . . Were made.   We have also a lead that there were multiple female students AND that some of them may have bene… ',\n",
       "       '    What bugs me is that everyone acts like #epstein never happened. Bill Richardson, a former… ',\n",
       "       'October      was a watershed moment in India’s fight for gender justice, with survivors of sexual abuse calling out… ',\n",
       "       'I didn’t receive official diagnosis of PTSD as a youth, rather back then I was diagnosed with an eating disorder-bu… ',\n",
       "       'What is gender-based violence, and how can it be prevented?  Comment/share your thoughts:… ',\n",
       "       '  They target girls. They are #sadist #Misogynist. #MeToo',\n",
       "       '#MeToo is a crisis for contemporary womanhood - The Post Millennial ➜… ',\n",
       "       \"#Metoo Hits Nepal's Government - Human Rights Watch : \",\n",
       "       'Persons stalking, poisoning #GE $GE whistleblower &amp; #MeToo survivor Seema Sapra      … ',\n",
       "       '  .   Persons stalking, poisoning #GE $GE whistleblower &amp; #MeToo survivor Seema Sapra      … ',\n",
       "       '[Recap] ‘I am not the only one’: Hong Kong student removes mask and accuses police of sexual assault… ',\n",
       "       '#MeToo backlash continues-now even women are less likely to hire women - The Post Mil… ➜… ',\n",
       "       'Fans will say this is fake. It\\'s not.       Declaration of Jordan Chandler. Fans will tell you it\\'s \"fake\"… ',\n",
       "       '  - Why I went public about being raped,    years later   \"Scandalous acceptance of sexual molesta… ',\n",
       "       'In #MeToo overreach, celebrities are fighting back-and winning-in court - The Post Mi… ➜… ',\n",
       "       'Go ahead! #AntiChinazi #LiberateHongKong #GlobalMagnitskyAct #passHKHumanRightsDemocracyAct… ',\n",
       "       '#Metooindia #SaturdayMotivation #SaturdayMorning #Brexit #SaturdayThoughts #Mentoo   These Gentlemen in #India  wer… ',\n",
       "       '    What worries me far more than the individual acts in #metoo, is if it has become a culture… ',\n",
       "       'Imagine if all of us were instantly &amp; permanently labeled with our worst acts. People keep forgetting how much natu… ',\n",
       "       '#MeToo  And they told me, \"This is actually a defense attorney\\'s office... soo... yeeahh... \" I kid you not. I am c… ',\n",
       "       'Oh, well, if no one had the courage to say anything before it MUST be okay...  Ugly rich dude still not getting… ',\n",
       "       \"      It had me too.... #MeToo  Hope that # isn't taken already.\",\n",
       "       '    I felt the same. Then I saw him speak in person at a conference, and... yeah... he said things… ',\n",
       "       'A bunch of fucking lawful gangsters who assaulted young female without any punishment  You still believe the rule b… ',\n",
       "       '#MeToo  Dear #California,      years ago (when I was  ), I was raped incestuously. I was notified that I can sue my… ',\n",
       "       '  LMFAO can you cut the shit ! Im sick of this! #abuse #metoo',\n",
       "       \"one day we can't protect our children.😭😢 #HKPoliceTerrorism #hkpolicebrutality #MeToo  #antichinazi… \",\n",
       "       'US hopes to keep Venezuela off UN Human Rights Council - Washington Post #metoo ',\n",
       "       'How the #MeToo cases that shook India have played out  Read more: ',\n",
       "       'New post (NASCAR Driver Angers #MeToo Movement With Unwanted Victory Lane Kiss - The Drive) has been published on N… ',\n",
       "       '#metoo idc how old this shit is fuck this world bruh too many girls get harassed and just, me too.',\n",
       "       '#Boudicca leading another #British rebellion on #WestminsterBridge this week  #ExtinctionRebellion #EverybodyNow… ',\n",
       "       \"CW: sexual violence, conservative fucktards  So for anyone who didn't already realise that   was gross (wo… \",\n",
       "       'More Google searches for sexual harassment facts since #MeToo ',\n",
       "       'Finally #MeToo ',\n",
       "       'Big mouth bob dinero joins the #METOO predator ranks.  Robert De Niro discriminated against and harassed female emp… ',\n",
       "       'How #MeToo Has Forced Venture Capital to Become More Inclusive ',\n",
       "       ' #MeToo in brussels_  % of women = #sexual #harassment in public space in #Brussels',\n",
       "       '  Your perspective is wrong cos I’ve seen huge convos happen in this app. From the #metoo movement to… ',\n",
       "       \"One year after India’s big #MeToo wave, a reality check  ThePrint's Samira Sood  , Nandita Singh… \",\n",
       "       'Well said...#metoo times     ',\n",
       "       'One year after India’s big #MeToo wave, a reality check ',\n",
       "       'Breaking: #FakeNews   When the #pronouns of    joined the #MeToo movement - #TownHall echoed \"Apologise o… ',\n",
       "       \"I &amp; many others publically condemned it when our team's owner was wrong in tweeting an insensitive remark against s… \",\n",
       "       'Melbourne Australia 🇦🇺 Rape: Don’t take it lying down FIGHT BACK!! All children deserve to grow up sexually safe #metoo  ',\n",
       "       '      #MeToo   yard completion and first down but damn it was fun presnap',\n",
       "       'Do you know what the consequences of domestic violence include? Learn more here: #feminism… ',\n",
       "       'Oh my gosh! We have been far too silenced, traumatized and embarrassed to protest in the streets. I started this mo… ',\n",
       "       'President Trump defends Kavanaugh as another woman claims sexual abuse - WQOW TV News    https://t.co/iLt pv E h… ',\n",
       "       '      Unbelievable you’re not allowed to touch women but kids ok   What a d… ',\n",
       "       'One year after India’s big #MeToo wave, a reality check....  From ThePrint newsroom.....   Samira Sood  ,… ',\n",
       "       'This is harrowing and unbelievable Does #MeToo cover these kids? ',\n",
       "       \"One year after India’s big #MeToo wave, a reality check  ThePrint's Samira Sood  , Nandita Singh… \",\n",
       "       \"#MeToo Merch - Christine: Or Woman's Trials and Triumphs (Legacies of Nineteenth-Century American Women Writers) -… \",\n",
       "       '        you would be wrong, douchebag.  #metoo  💔 🖕🏾',\n",
       "       \"     That's   , People!  Any other celebrity sin is drama-queen important but not Trump assaul… \",\n",
       "       \"    You never will..  it's old news everyone on Leftbook knew   years ago. Some old comrad… \",\n",
       "       'it was horrifying having to defend my sisters from the system, but then it #MeToo',\n",
       "       'Stand by your man, give him two arms to cling to...  #Hillary Clinton the #Metoo Loretta Lynn of our times. No offe… ',\n",
       "       \"        That's   , People!  Any other celebrity sin is drama-queen important but not Trum… \",\n",
       "       'I’m confused. It’s okay that chicks with dicks compete in women’s sports but paying a college athlete is absurd? Pi… ',\n",
       "       '      This is a real question! If you know nothing about it why not ask about it i… ',\n",
       "       '  #metoo came and went and some of us leftists were waiting for shit to hit the fan over Henwood but afaik it never did??',\n",
       "       'Why CREW Chapters Are Courting Men - #metoo #timesup #news ',\n",
       "       'One year since #MeToo : Has India Inc’s attitude changed? #MeToo #Metooindia #harassment #women #womenempowerment',\n",
       "       '    Isnt that what #metoo is for? And how in hell does anyone know which media heavyweights  are on holiday at any time?',\n",
       "       \"    Dude.  #metoo.  I guess it's true.  The sun has to shine on every dogs ass once in while.\",\n",
       "       '  .   persons used to follow, poison #GE $GE whistleblower &amp; #MeToo survivor Seema Sapra      … ',\n",
       "       'One year after India’s big #MeToo wave, a reality check ',\n",
       "       'A list of Indian celebrities who have been accused by women of sexually abusive behaviour during the #MeToo movemen… ',\n",
       "       '     % he gets impeached. Odds low but rising that he gets removed by the Senate. Thing no one is tal… ',\n",
       "       'How the #MeToo Cases That Shook India Have Played Out \\u2066 \\u2069 \\u2066 \\u2069 \\u2066 \\u2069 \\u2066… ',\n",
       "       '#MeToo!  Puzzles and codes are my faves!🐸 ',\n",
       "       'Harrassed Millions Of Ladies But Never Got a #MeToo Harrassment Case...🤔😉 ',\n",
       "       'Taking an Uber home alone because our friend said #MeToo was a problem! Love being a woman!',\n",
       "       'Celebrating the first anniversary of the historical MeToo movement.Lets not forget what the movement has taught us.… ',\n",
       "       '  .   persons  used to follow #GE $GE whistleblower &amp; #MeToo survivor Seema Sapra      … ',\n",
       "       'Men used to poison, attack Men used to pois #GE $GE whistleblower &amp; #MeToo survivor Seema Sapra inside Lodhi Garden… ',\n",
       "       'Men used to poison, attack #GE $GE whistleblower &amp; #MeToo survivor Seema Sapra inside Lodhi Gardens  washroom… ',\n",
       "       '  .   men following, poisoning  #GE $GE whistleblower &amp; #MeToo survivor Seema Sapra      … ',\n",
       "       '  After   #MeToo 🤐🤐😂',\n",
       "       'Men used to poison, attack #GE $GE whistleblower &amp; #MeToo survivor Seema Sapra inside Lodhi Gardens  washroom… ',\n",
       "       'Instead of #metoo its now #fuckyou'], dtype='<U121')"
      ]
     },
     "execution_count": 8,
     "metadata": {},
     "output_type": "execute_result"
    }
   ],
   "source": [
    "list_tweets"
   ]
  },
  {
   "cell_type": "code",
   "execution_count": 9,
   "metadata": {},
   "outputs": [],
   "source": [
    "# Loading the vectorizer and classfier\n",
    "with open('classifier.pickle','rb') as f:\n",
    "    classifier = pickle.load(f)\n",
    "    \n",
    "with open('tfidfmodel.pickle','rb') as f:\n",
    "    tfidf = pickle.load(f)   "
   ]
  },
  {
   "cell_type": "code",
   "execution_count": 15,
   "metadata": {},
   "outputs": [
    {
     "name": "stdout",
     "output_type": "stream",
     "text": [
      "was just reading this article and noticed you ve spelt the founder of the  :  [1]\n",
      "how metoo revealed the central rift within feminism today  :  [1]\n",
      "year later what next for india metoo movement amp spoke  :  [1]\n",
      "been trying to do this all day imagine train looking out and six bronze aussie lifeguards are standing on the bl  :  [1]\n",
      "just had the pleasure of feeling someone nipples on my back as m sitting at the bar lol metoo wtf  :  [1]\n",
      "infographic on nifty companies with maximum sexual harassment complaints filed under posh act in fy compiled  :  [1]\n",
      "more whistle blowers just like the parade of metoo who lined up to testify against kavanaugh  :  [1]\n",
      "really want another season of understand there were some metoo issues behind the scenes that  :  [1]\n",
      "nurse struck off for failing to report child sexual abuse concerns bbc news metoo  :  [1]\n",
      "the perfect alibi robin lockwood epub full page metoo  :  [1]\n",
      "comments under this the modern young boy girls think that society creates issue on mix friendships the forg  :  [1]\n",
      "dissection of intersectional gender inequality and annihilation of slut shaming feminism timesup metoo  :  [1]\n",
      "one year after the me too movement in india do we need change and nuance yes reports metoo  :  [1]\n",
      "it never too late to find your voice endthesilence metoo  :  [1]\n",
      "is it just my impression to think the tide has turned on metoo  :  [0]\n",
      "wow this is so freaking sad where the metoo peeps  :  [0]\n",
      "beat it down because had to ploughed through because had to don fucking tell me ve done well or pa  :  [1]\n",
      "were made we have also lead that there were multiple female students and that some of them may have bene  :  [1]\n",
      "what bugs me is that everyone acts like epstein never happened bill richardson former  :  [1]\n",
      "october was watershed moment in india fight for gender justice with survivors of sexual abuse calling out  :  [1]\n",
      "didn receive official diagnosis of ptsd as youth rather back then was diagnosed with an eating disorder bu  :  [1]\n",
      "what is gender based violence and how can it be prevented comment share your thoughts  :  [1]\n",
      "they target girls they are sadist misogynist metoo  :  [0]\n",
      "metoo is crisis for contemporary womanhood the post millennial  :  [0]\n",
      "metoo hits nepal government human rights watch  :  [1]\n",
      "persons stalking poisoning ge ge whistleblower amp metoo survivor seema sapra  :  [1]\n",
      "persons stalking poisoning ge ge whistleblower amp metoo survivor seema sapra  :  [1]\n",
      "recap am not the only one hong kong student removes mask and accuses police of sexual assault  :  [1]\n",
      "metoo backlash continues now even women are less likely to hire women the post mil  :  [0]\n",
      "fans will say this is fake it not declaration of jordan chandler fans will tell you it fake  :  [0]\n",
      "why went public about being raped years later scandalous acceptance of sexual molesta  :  [1]\n",
      "in metoo overreach celebrities are fighting back and winning in court the post mi  :  [1]\n",
      "go ahead antichinazi liberatehongkong globalmagnitskyact passhkhumanrightsdemocracyact  :  [1]\n",
      "metooindia saturdaymotivation saturdaymorning brexit saturdaythoughts mentoo these gentlemen in india wer  :  [1]\n",
      "what worries me far more than the individual acts in metoo is if it has become culture  :  [1]\n",
      "imagine if all of us were instantly amp permanently labeled with our worst acts people keep forgetting how much natu  :  [0]\n",
      "metoo and they told me this is actually defense attorney office soo yeeahh kid you not am  :  [1]\n",
      "oh well if no one had the courage to say anything before it must be okay ugly rich dude still not getting  :  [1]\n",
      "it had me too metoo hope that isn taken already  :  [1]\n",
      "felt the same then saw him speak in person at conference and yeah he said things  :  [1]\n",
      "bunch of fucking lawful gangsters who assaulted young female without any punishment you still believe the rule  :  [1]\n",
      "metoo dear california years ago when was was raped incestuously was notified that can sue my  :  [1]\n",
      "lmfao can you cut the shit im sick of this abuse metoo  :  [1]\n",
      "one day we can protect our children hkpoliceterrorism hkpolicebrutality metoo antichinazi  :  [1]\n",
      "us hopes to keep venezuela off un human rights council washington post metoo  :  [1]\n",
      "how the metoo cases that shook india have played out read more  :  [0]\n",
      "new post nascar driver angers metoo movement with unwanted victory lane kiss the drive has been published on  :  [1]\n",
      "metoo idc how old this shit is fuck this world bruh too many girls get harassed and just me too  :  [1]\n",
      "boudicca leading another british rebellion on westminsterbridge this week extinctionrebellion everybodynow  :  [1]\n",
      "cw sexual violence conservative fucktards so for anyone who didn already realise that was gross wo  :  [0]\n",
      "more google searches for sexual harassment facts since metoo  :  [0]\n",
      "finally metoo  :  [1]\n",
      "big mouth bob dinero joins the metoo predator ranks robert de niro discriminated against and harassed female emp  :  [0]\n",
      "how metoo has forced venture capital to become more inclusive  :  [1]\n",
      "metoo in brussels_ of women sexual harassment in public space in brussels  :  [0]\n",
      "your perspective is wrong cos ve seen huge convos happen in this app from the metoo movement to  :  [1]\n",
      "one year after india big metoo wave reality check theprint samira sood nandita singh  :  [1]\n",
      "well said metoo times  :  [1]\n",
      "one year after india big metoo wave reality check  :  [1]\n",
      "breaking fakenews when the pronouns of joined the metoo movement townhall echoed apologise  :  [1]\n",
      "amp many others publically condemned it when our team owner was wrong in tweeting an insensitive remark against  :  [1]\n",
      "melbourne australia rape don take it lying down fight back all children deserve to grow up sexually safe metoo  :  [1]\n",
      "metoo yard completion and first down but damn it was fun presnap  :  [1]\n",
      "do you know what the consequences of domestic violence include learn more here feminism  :  [0]\n",
      "oh my gosh we have been far too silenced traumatized and embarrassed to protest in the streets started this mo  :  [1]\n",
      "president trump defends kavanaugh as another woman claims sexual abuse wqow tv news https co ilt pv h  :  [0]\n",
      "unbelievable you re not allowed to touch women but kids ok what d  :  [1]\n",
      "one year after india big metoo wave reality check from theprint newsroom samira sood  :  [1]\n",
      "this is harrowing and unbelievable does metoo cover these kids  :  [1]\n",
      "one year after india big metoo wave reality check theprint samira sood nandita singh  :  [1]\n",
      "metoo merch christine or woman trials and triumphs legacies of nineteenth century american women writers  :  [0]\n",
      "you would be wrong douchebag metoo  :  [0]\n",
      "that people any other celebrity sin is drama queen important but not trump assaul  :  [1]\n",
      "you never will it old news everyone on leftbook knew years ago some old comrad  :  [0]\n",
      "it was horrifying having to defend my sisters from the system but then it metoo  :  [1]\n",
      "stand by your man give him two arms to cling to hillary clinton the metoo loretta lynn of our times no offe  :  [0]\n",
      "that people any other celebrity sin is drama queen important but not trum  :  [1]\n",
      "confused it okay that chicks with dicks compete in women sports but paying college athlete is absurd pi  :  [0]\n",
      "this is real question if you know nothing about it why not ask about it  :  [0]\n",
      "metoo came and went and some of us leftists were waiting for shit to hit the fan over henwood but afaik it never did  :  [0]\n",
      "why crew chapters are courting men metoo timesup news  :  [1]\n",
      "one year since metoo has india inc attitude changed metoo metooindia harassment women womenempowerment  :  [0]\n",
      "isnt that what metoo is for and how in hell does anyone know which media heavyweights are on holiday at any time  :  [0]\n",
      "dude metoo guess it true the sun has to shine on every dogs ass once in while  :  [1]\n",
      "persons used to follow poison ge ge whistleblower amp metoo survivor seema sapra  :  [1]\n",
      "one year after india big metoo wave reality check  :  [1]\n",
      "list of indian celebrities who have been accused by women of sexually abusive behaviour during the metoo movemen  :  [0]\n",
      "he gets impeached odds low but rising that he gets removed by the senate thing no one is tal  :  [0]\n",
      "how the metoo cases that shook india have played out  :  [1]\n",
      "metoo puzzles and codes are my faves  :  [1]\n",
      "harrassed millions of ladies but never got metoo harrassment case  :  [0]\n",
      "taking an uber home alone because our friend said metoo was problem love being woman  :  [1]\n",
      "celebrating the first anniversary of the historical metoo movement lets not forget what the movement has taught us  :  [1]\n",
      "persons used to follow ge ge whistleblower amp metoo survivor seema sapra  :  [1]\n",
      "men used to poison attack men used to pois ge ge whistleblower amp metoo survivor seema sapra inside lodhi garden  :  [1]\n",
      "men used to poison attack ge ge whistleblower amp metoo survivor seema sapra inside lodhi gardens washroom  :  [1]\n",
      "men following poisoning ge ge whistleblower amp metoo survivor seema sapra  :  [1]\n",
      "after metoo  :  [1]\n",
      "men used to poison attack ge ge whistleblower amp metoo survivor seema sapra inside lodhi gardens washroom  :  [1]\n",
      "instead of metoo its now fuckyou  :  [1]\n"
     ]
    }
   ],
   "source": [
    "# Preprocessing the tweets and predicting sentiment\n",
    "total_pos,total_neg=0,0\n",
    "for tweet in list_tweets:\n",
    "    tweet = tweet.lower()\n",
    "    tweet = re.sub(r\"\\W\",\" \",tweet)\n",
    "    tweet = re.sub(r\"\\d\",\" \",tweet)\n",
    "    tweet = re.sub(r\"\\s+[a-z]\\s+\",\" \",tweet)\n",
    "    tweet = re.sub(r\"\\s+[a-z]$\",\" \",tweet)\n",
    "    tweet = re.sub(r\"^[a-z]\\s+\",\" \",tweet)\n",
    "    tweet = re.sub(r\"\\s+\",\" \",tweet)\n",
    "    tweet = re.sub(r\"\\s$\",\"\",tweet)\n",
    "    tweet = re.sub(r\"^\\s\",\"\",tweet)\n",
    "    sent = classifier.predict(tfidf.transform([tweet]).toarray())\n",
    "    print(tweet,\" : \",sent)\n",
    "    if sent[0] == 1:\n",
    "        total_pos = total_pos+1\n",
    "    else:\n",
    "        total_neg = total_neg+1"
   ]
  },
  {
   "cell_type": "code",
   "execution_count": 13,
   "metadata": {},
   "outputs": [
    {
     "ename": "TypeError",
     "evalue": "only integer scalar arrays can be converted to a scalar index",
     "output_type": "error",
     "traceback": [
      "\u001b[1;31m---------------------------------------------------------------------------\u001b[0m",
      "\u001b[1;31mTypeError\u001b[0m                                 Traceback (most recent call last)",
      "\u001b[1;32m<ipython-input-13-e24806e004d8>\u001b[0m in \u001b[0;36m<module>\u001b[1;34m\u001b[0m\n\u001b[1;32m----> 1\u001b[1;33m \u001b[1;32mfor\u001b[0m \u001b[0mtweet\u001b[0m \u001b[1;32min\u001b[0m \u001b[0mrange\u001b[0m\u001b[1;33m(\u001b[0m\u001b[0mlist_tweets\u001b[0m\u001b[1;33m)\u001b[0m\u001b[1;33m:\u001b[0m\u001b[1;33m\u001b[0m\u001b[1;33m\u001b[0m\u001b[0m\n\u001b[0m\u001b[0;32m      2\u001b[0m     \u001b[0msent\u001b[0m \u001b[1;33m=\u001b[0m \u001b[0mclassifier\u001b[0m\u001b[1;33m.\u001b[0m\u001b[0mpredict\u001b[0m\u001b[1;33m(\u001b[0m\u001b[0mtfidf\u001b[0m\u001b[1;33m.\u001b[0m\u001b[0mtransform\u001b[0m\u001b[1;33m(\u001b[0m\u001b[0mtweet\u001b[0m\u001b[1;33m)\u001b[0m\u001b[1;33m.\u001b[0m\u001b[0mtoarray\u001b[0m\u001b[1;33m(\u001b[0m\u001b[1;33m)\u001b[0m\u001b[1;33m)\u001b[0m\u001b[1;33m\u001b[0m\u001b[1;33m\u001b[0m\u001b[0m\n\u001b[0;32m      3\u001b[0m     \u001b[0mprint\u001b[0m\u001b[1;33m(\u001b[0m\u001b[0mtweet\u001b[0m\u001b[1;33m,\u001b[0m\u001b[1;34m\" : \"\u001b[0m\u001b[1;33m,\u001b[0m\u001b[0msent\u001b[0m\u001b[1;33m)\u001b[0m\u001b[1;33m\u001b[0m\u001b[1;33m\u001b[0m\u001b[0m\n",
      "\u001b[1;31mTypeError\u001b[0m: only integer scalar arrays can be converted to a scalar index"
     ]
    }
   ],
   "source": [
    "for tweet in range(list_tweets):\n",
    "    sent = classifier.predict(tfidf.transform(tweet).toarray())\n",
    "    print(tweet,\" : \",sent)"
   ]
  },
  {
   "cell_type": "code",
   "execution_count": 16,
   "metadata": {},
   "outputs": [
    {
     "data": {
      "text/plain": [
       "<Figure size 640x480 with 1 Axes>"
      ]
     },
     "metadata": {},
     "output_type": "display_data"
    }
   ],
   "source": [
    "# Visualizing the results\n",
    "import matplotlib.pyplot as plt\n",
    "import numpy as np\n",
    "objects = ['Positive','Negative']\n",
    "y_pos = np.arange(len(objects))\n",
    "\n",
    "plt.bar(y_pos,[total_pos,total_neg],alpha=0.5)\n",
    "plt.xticks(y_pos,objects)\n",
    "plt.ylabel('Number')\n",
    "plt.title('Number of Postive and Negative Tweets')\n",
    "plt.show()"
   ]
  },
  {
   "cell_type": "code",
   "execution_count": null,
   "metadata": {},
   "outputs": [],
   "source": [
    "import pandas as pd\n",
    "import matplotlib.pyplot as plt"
   ]
  },
  {
   "cell_type": "code",
   "execution_count": null,
   "metadata": {},
   "outputs": [],
   "source": [
    "#Common words used in Nov month tweets, using WordCloud\n",
    "all_words = ' '.join([text for text in list_tweets])\n",
    "from wordcloud import WordCloud\n",
    "wordcloud = WordCloud(width=800, height=500, random_state=21, max_font_size=110).generate(all_words)\n",
    "\n",
    "plt.figure(figsize=(10, 7))\n",
    "plt.imshow(wordcloud, interpolation=\"bilinear\")\n",
    "plt.axis('off')\n",
    "plt.show()"
   ]
  },
  {
   "cell_type": "code",
   "execution_count": null,
   "metadata": {},
   "outputs": [],
   "source": [
    "sent[0]"
   ]
  },
  {
   "cell_type": "code",
   "execution_count": null,
   "metadata": {},
   "outputs": [],
   "source": []
  }
 ],
 "metadata": {
  "kernelspec": {
   "display_name": "Python 3",
   "language": "python",
   "name": "python3"
  },
  "language_info": {
   "codemirror_mode": {
    "name": "ipython",
    "version": 3
   },
   "file_extension": ".py",
   "mimetype": "text/x-python",
   "name": "python",
   "nbconvert_exporter": "python",
   "pygments_lexer": "ipython3",
   "version": "3.7.3"
  }
 },
 "nbformat": 4,
 "nbformat_minor": 2
}
